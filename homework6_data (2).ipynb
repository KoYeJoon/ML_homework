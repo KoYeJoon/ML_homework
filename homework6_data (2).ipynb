{
 "cells": [
  {
   "cell_type": "markdown",
   "metadata": {},
   "source": [
    "## california data (linear regression data)"
   ]
  },
  {
   "cell_type": "code",
   "execution_count": 1,
   "metadata": {
    "scrolled": false
   },
   "outputs": [
    {
     "name": "stdout",
     "output_type": "stream",
     "text": [
      "California housing dataset.\n",
      "\n",
      "The original database is available from StatLib\n",
      "\n",
      "    http://lib.stat.cmu.edu/datasets/\n",
      "\n",
      "The data contains 20,640 observations on 9 variables.\n",
      "\n",
      "This dataset contains the average house value as target variable\n",
      "and the following input variables (features): average income,\n",
      "housing average age, average rooms, average bedrooms, population,\n",
      "average occupation, latitude, and longitude in that order.\n",
      "\n",
      "References\n",
      "----------\n",
      "\n",
      "Pace, R. Kelley and Ronald Barry, Sparse Spatial Autoregressions,\n",
      "Statistics and Probability Letters, 33 (1997) 291-297.\n",
      "\n",
      "\n"
     ]
    }
   ],
   "source": [
    "from sklearn.datasets import fetch_california_housing\n",
    "california = fetch_california_housing()\n",
    "print(california.DESCR)"
   ]
  },
  {
   "cell_type": "code",
   "execution_count": 2,
   "metadata": {},
   "outputs": [],
   "source": [
    "from sklearn.model_selection import train_test_split\n",
    "x_train, x_test, y_train, y_test = train_test_split(california.data, california.target, test_size = 0.1)"
   ]
  },
  {
   "cell_type": "markdown",
   "metadata": {},
   "source": [
    "## Logistic regrssion 용 데이터"
   ]
  },
  {
   "cell_type": "code",
   "execution_count": 3,
   "metadata": {},
   "outputs": [],
   "source": [
    "#  해당 코드는 수정하지 마세요\n",
    "from sklearn.datasets import make_classification\n",
    "\n",
    "\n",
    "X, y = make_classification(n_features=8, n_informative=5,\n",
    "                           n_redundant=3, n_clusters_per_class=1, random_state=4, n_samples =1000 )"
   ]
  },
  {
   "cell_type": "markdown",
   "metadata": {},
   "source": []
  },
  {
   "cell_type": "code",
   "execution_count": 4,
   "metadata": {},
   "outputs": [],
   "source": [
    "x_train, x_test, y_train, y_test = train_test_split(X, y, test_size = 0.1,random_state=4)"
   ]
  },
  {
   "cell_type": "markdown",
   "metadata": {},
   "source": [
    "# 1. coefficient interpretation(logistic regression)"
   ]
  },
  {
   "cell_type": "code",
   "execution_count": 5,
   "metadata": {},
   "outputs": [
    {
     "data": {
      "text/html": [
       "<div>\n",
       "<style scoped>\n",
       "    .dataframe tbody tr th:only-of-type {\n",
       "        vertical-align: middle;\n",
       "    }\n",
       "\n",
       "    .dataframe tbody tr th {\n",
       "        vertical-align: top;\n",
       "    }\n",
       "\n",
       "    .dataframe thead th {\n",
       "        text-align: right;\n",
       "    }\n",
       "</style>\n",
       "<table border=\"1\" class=\"dataframe\">\n",
       "  <thead>\n",
       "    <tr style=\"text-align: right;\">\n",
       "      <th></th>\n",
       "      <th>1</th>\n",
       "      <th>2</th>\n",
       "      <th>3</th>\n",
       "      <th>4</th>\n",
       "      <th>5</th>\n",
       "      <th>6</th>\n",
       "      <th>7</th>\n",
       "      <th>8</th>\n",
       "    </tr>\n",
       "  </thead>\n",
       "  <tbody>\n",
       "    <tr>\n",
       "      <th>1</th>\n",
       "      <td>1.000000</td>\n",
       "      <td>-0.478951</td>\n",
       "      <td>0.436902</td>\n",
       "      <td>0.864159</td>\n",
       "      <td>0.880861</td>\n",
       "      <td>-0.018816</td>\n",
       "      <td>-0.390682</td>\n",
       "      <td>0.215001</td>\n",
       "    </tr>\n",
       "    <tr>\n",
       "      <th>2</th>\n",
       "      <td>-0.478951</td>\n",
       "      <td>1.000000</td>\n",
       "      <td>-0.575351</td>\n",
       "      <td>-0.304146</td>\n",
       "      <td>-0.527124</td>\n",
       "      <td>-0.566431</td>\n",
       "      <td>-0.354715</td>\n",
       "      <td>-0.367063</td>\n",
       "    </tr>\n",
       "    <tr>\n",
       "      <th>3</th>\n",
       "      <td>0.436902</td>\n",
       "      <td>-0.575351</td>\n",
       "      <td>1.000000</td>\n",
       "      <td>0.403478</td>\n",
       "      <td>0.588714</td>\n",
       "      <td>0.290694</td>\n",
       "      <td>0.572638</td>\n",
       "      <td>0.948551</td>\n",
       "    </tr>\n",
       "    <tr>\n",
       "      <th>4</th>\n",
       "      <td>0.864159</td>\n",
       "      <td>-0.304146</td>\n",
       "      <td>0.403478</td>\n",
       "      <td>1.000000</td>\n",
       "      <td>0.670715</td>\n",
       "      <td>-0.029360</td>\n",
       "      <td>-0.212808</td>\n",
       "      <td>0.315153</td>\n",
       "    </tr>\n",
       "    <tr>\n",
       "      <th>5</th>\n",
       "      <td>0.880861</td>\n",
       "      <td>-0.527124</td>\n",
       "      <td>0.588714</td>\n",
       "      <td>0.670715</td>\n",
       "      <td>1.000000</td>\n",
       "      <td>-0.229822</td>\n",
       "      <td>-0.183234</td>\n",
       "      <td>0.371171</td>\n",
       "    </tr>\n",
       "    <tr>\n",
       "      <th>6</th>\n",
       "      <td>-0.018816</td>\n",
       "      <td>-0.566431</td>\n",
       "      <td>0.290694</td>\n",
       "      <td>-0.029360</td>\n",
       "      <td>-0.229822</td>\n",
       "      <td>1.000000</td>\n",
       "      <td>0.415417</td>\n",
       "      <td>0.242491</td>\n",
       "    </tr>\n",
       "    <tr>\n",
       "      <th>7</th>\n",
       "      <td>-0.390682</td>\n",
       "      <td>-0.354715</td>\n",
       "      <td>0.572638</td>\n",
       "      <td>-0.212808</td>\n",
       "      <td>-0.183234</td>\n",
       "      <td>0.415417</td>\n",
       "      <td>1.000000</td>\n",
       "      <td>0.707985</td>\n",
       "    </tr>\n",
       "    <tr>\n",
       "      <th>8</th>\n",
       "      <td>0.215001</td>\n",
       "      <td>-0.367063</td>\n",
       "      <td>0.948551</td>\n",
       "      <td>0.315153</td>\n",
       "      <td>0.371171</td>\n",
       "      <td>0.242491</td>\n",
       "      <td>0.707985</td>\n",
       "      <td>1.000000</td>\n",
       "    </tr>\n",
       "  </tbody>\n",
       "</table>\n",
       "</div>"
      ],
      "text/plain": [
       "          1         2         3         4         5         6         7  \\\n",
       "1  1.000000 -0.478951  0.436902  0.864159  0.880861 -0.018816 -0.390682   \n",
       "2 -0.478951  1.000000 -0.575351 -0.304146 -0.527124 -0.566431 -0.354715   \n",
       "3  0.436902 -0.575351  1.000000  0.403478  0.588714  0.290694  0.572638   \n",
       "4  0.864159 -0.304146  0.403478  1.000000  0.670715 -0.029360 -0.212808   \n",
       "5  0.880861 -0.527124  0.588714  0.670715  1.000000 -0.229822 -0.183234   \n",
       "6 -0.018816 -0.566431  0.290694 -0.029360 -0.229822  1.000000  0.415417   \n",
       "7 -0.390682 -0.354715  0.572638 -0.212808 -0.183234  0.415417  1.000000   \n",
       "8  0.215001 -0.367063  0.948551  0.315153  0.371171  0.242491  0.707985   \n",
       "\n",
       "          8  \n",
       "1  0.215001  \n",
       "2 -0.367063  \n",
       "3  0.948551  \n",
       "4  0.315153  \n",
       "5  0.371171  \n",
       "6  0.242491  \n",
       "7  0.707985  \n",
       "8  1.000000  "
      ]
     },
     "execution_count": 5,
     "metadata": {},
     "output_type": "execute_result"
    }
   ],
   "source": [
    "#a. 모든 feature에 대해서 correlation coefficient array 구하기\n",
    "import numpy as np\n",
    "import pandas as pd\n",
    "column_name = ['1','2','3','4','5','6','7','8']\n",
    "df = pd.DataFrame(X,columns=column_name)\n",
    "corr = df.corr(method='pearson')\n",
    "corr"
   ]
  },
  {
   "cell_type": "code",
   "execution_count": 7,
   "metadata": {},
   "outputs": [
    {
     "data": {
      "text/plain": [
       "<matplotlib.axes._subplots.AxesSubplot at 0x1a24cbf828>"
      ]
     },
     "execution_count": 7,
     "metadata": {},
     "output_type": "execute_result"
    },
    {
     "data": {
      "image/png": "[encoded data removed]",
      "text/plain": [
       "<Figure size 720x432 with 2 Axes>"
      ]
     },
     "metadata": {
      "needs_background": "light"
     },
     "output_type": "display_data"
    }
   ],
   "source": [
    "#correlation coefficient가 높은 5개 feature이용\n",
    "#feature간의 correlation을 heatmap으로 나타내기\n",
    "import matplotlib.pyplot as plt\n",
    "import seaborn as sns\n",
    "heatmap_data = corr.loc[[\"1\", \"3\", \"4\", \"5\", \"8\"],[\"1\", \"3\", \"4\", \"5\", \"8\"]]\n",
    "heatmap_data\n",
    "colormap = plt.cm.PuBu\n",
    "plt.figure(figsize=(10, 6))\n",
    "plt.title(\"high correlation coefficient 5\", y = 1.05, size = 18) \n",
    "sns.heatmap(heatmap_data, linewidths = 0.15, vmax = 1.0, square = True, cmap = colormap, linecolor = \"white\", annot = True, annot_kws = {\"size\" : 16})\n"
   ]
  },
  {
   "cell_type": "code",
   "execution_count": 8,
   "metadata": {},
   "outputs": [
    {
     "name": "stdout",
     "output_type": "stream",
     "text": [
      "test data에 대한 test acc : 0.94\n"
     ]
    }
   ],
   "source": [
    "#b. correlation coefficient array를 바탕으로 multiple logistic regression\n",
    "from sklearn.linear_model import LogisticRegression\n",
    "from sklearn.preprocessing import StandardScaler\n",
    "\n",
    "#모델에서 학습할 feature선택 몇개 위에서 선택한 것들!\n",
    "columns = [\"1\", \"3\", \"4\", \"5\", \"8\"]\n",
    "data_train = pd.DataFrame(x_train, columns=column_name)\n",
    "data_test = pd.DataFrame(x_test, columns=column_name)\n",
    "\n",
    "\n",
    "df = data_train[columns]\n",
    "x_train_temp = df.values\n",
    "df2 = data_test[columns]\n",
    "x_test_temp = df2.values\n",
    "\n",
    "#x label 의 data들을 정규화한다.\n",
    "scaler = StandardScaler()\n",
    "scaler.fit(x_train_temp)\n",
    "x_train1 = scaler.transform(x_train_temp)\n",
    "x_test1 = scaler.transform(x_test_temp)\n",
    "\n",
    "#90%의 데이터를 학습데이터로 사용하여 regression model학습\n",
    "model = LogisticRegression(multi_class = 'multinomial',solver='newton-cg')\n",
    "result = model.fit(x_train1,y_train)\n",
    "\n",
    "#10% 테스트 데이터에 대한 test acc 출력\n",
    "y_predict = result.predict(x_test1)\n",
    "print(\"test data에 대한 test acc : \" + str(result.score(x_test1,y_test)))"
   ]
  },
  {
   "cell_type": "markdown",
   "metadata": {},
   "source": [
    "# 2. variable selection(linear regression)"
   ]
  },
  {
   "cell_type": "code",
   "execution_count": 9,
   "metadata": {},
   "outputs": [
    {
     "name": "stdout",
     "output_type": "stream",
     "text": [
      "forward selection을 수행한 후의 뽑힌 네 개의 feature\n",
      "['MedInc', 'HouseAge', 'Latitude', 'Longitude']\n",
      "\n",
      "forward selection 을 수행한 후의 test r^2값\n",
      "test r_2 : 0.577946009629186\n",
      "test adj_r_2 : 0.5771260892982082\n"
     ]
    },
    {
     "data": {
      "image/png": "[encoded data removed]",
      "text/plain": [
       "<Figure size 720x432 with 1 Axes>"
      ]
     },
     "metadata": {
      "needs_background": "light"
     },
     "output_type": "display_data"
    }
   ],
   "source": [
    "#linear regression model의 variable 선택을 위해\n",
    "#adjusted R^2을 기반으로 forward selection 수행\n",
    "x_train, x_test, y_train, y_test = train_test_split(california.data, california.target, test_size = 0.1,random_state=4)\n",
    "from sklearn.metrics import r2_score\n",
    "from sklearn.linear_model import LinearRegression\n",
    "\n",
    "#forward selection 을 위해 data frame으로 각 variable별 데이터 정리\n",
    "data_train = pd.DataFrame(x_train, columns=california.feature_names)\n",
    "data_test = pd.DataFrame(x_test, columns=california.feature_names)\n",
    "\n",
    "#전체 variable 목록\n",
    "total_fea = data_train.columns.tolist()\n",
    "\n",
    "\n",
    "#variable 개수 별 adj_r2를 구하기 위함(train, test 그래프 출력을 위해서 정의)\n",
    "train_adj_r2=[0,0,0,0]\n",
    "test_adj_r2=[0,0,0,0]\n",
    "test_r2 = [0,0,0,0]\n",
    "\n",
    "#r2함수를 이용하여 adj_r2 함수 구현\n",
    "def adj_r2(y_real,y_pred,p,n) :\n",
    "    r2 = r2_score(y_real,y_pred)\n",
    "    temp_adj = 1 - (1-r2)*(n-1)/(n-p-1)\n",
    "    return temp_adj\n",
    "\n",
    "temp=0\n",
    "best_features=[]\n",
    "\n",
    "#best_features수가 4개가 되면 멈추도록 한다.\n",
    "while(len(best_features)<4) :\n",
    "    \n",
    "    #남아 있는 변수들 중 어떤 것을 선택할지에 대한 리스트 remain_fea\n",
    "    remain_fea = list(set(total_fea)-set(best_features))\n",
    "    arr_r2_adj_train=[]\n",
    "    arr_r2_adj_test = []\n",
    "    #최종 test r2값 출력을 위함\n",
    "    arr_test_r2=[]\n",
    "    \n",
    "    #값이 추가되었는지에 대한 flag\n",
    "    flag =0\n",
    "    \n",
    "    #(남아 있는 변수들 중 하나씩 선택 +선택된 변수)에 따른 adjusted R^2을 구한다.\n",
    "    #test r2 adj 또한 그래프 출력을 해야하므로 train data로 학습시킨 것에 대한 test r2 adj를 같이 구함\n",
    "    for k in remain_fea :      \n",
    "        df = data_train[best_features+[k]]\n",
    "        df2 = data_test[best_features+[k]]\n",
    "        x_train_temp = df.values\n",
    "        x_test_temp = df2.values\n",
    "        \n",
    "        #훈련은 train data로 시킨다.\n",
    "        reg = LinearRegression()\n",
    "        reg = reg.fit(x_train_temp,y_train)\n",
    "        \n",
    "        #train_temp, test_temp는 각각 데이터에 대한 예측값\n",
    "        train_temp = reg.predict(x_train_temp)\n",
    "        test_temp = reg.predict(x_test_temp)\n",
    "        \n",
    "        #예측값에 대한 r2 score\n",
    "        r2_score_train=r2_score(y_train,train_temp)\n",
    "        r2_score_test=r2_score(y_test,test_temp)  \n",
    "        \n",
    "        #출력을 위해 r2 score 저장\n",
    "        arr_test_r2.append(r2_score_test)\n",
    "        \n",
    "        #adj r2 score를 train,test 각각 구하여 임시 배열에 저장\n",
    "        arr_r2_adj_train.append(adj_r2(y_train,train_temp,len(best_features)+1,len(x_train_temp)))\n",
    "        arr_r2_adj_test.append(adj_r2(y_test,test_temp,len(best_features)+1,len(x_test_temp)))  \n",
    "   \n",
    "\n",
    "    #(남아 있는 변수들 중 하나씩 선택 +선택된 변수)에 따른 adjusted R^2 중 가장 높은 adj_R^2 값을 가진 것을 뽑아낸다.\n",
    "    max_r2_adj_train = max(arr_r2_adj_train)\n",
    "\n",
    "    \n",
    "    #이전에 담았던 max_r2_adj보다 최근에 train_adjusted R^2 값이 좋은 경우, 최근에 추가한 변수를 best feature에 추가하고, \n",
    "    #나중에 그래프 출력을 위하여 그 때의 test_adjusted R^2 값을 담는다.\n",
    "    if(max_r2_adj_train>temp):\n",
    "        temp=max_r2_adj_train\n",
    "        #train data에서 adjusted r2값이 최대인 feature가 뽑히게 된다. \n",
    "        best_features.append(remain_fea[arr_r2_adj_train.index(max(arr_r2_adj_train))])\n",
    "    \n",
    "        #train data에서 adjusted r2값이 최대인 인덱스의 값에서 test adj_r2 를 저장하기 위함\n",
    "        max_r2_adj_test= arr_r2_adj_test[arr_r2_adj_train.index(max(arr_r2_adj_train))]\n",
    "        flag=1\n",
    "    \n",
    "    #best_features 값의 개수를 샌다.\n",
    "    num = len(best_features)   \n",
    "    \n",
    "    \n",
    "    #값이 추가 되었음을 알리는 flag=1\n",
    "    if flag == 1 :\n",
    "        #num-1로 인덱스에 들어갈 값을 정의하고 위에서 구한 최적의 max값을 넣는다.\n",
    "        train_adj_r2[num-1] = max_r2_adj_train\n",
    "        test_adj_r2[num-1] = max_r2_adj_test\n",
    "        #train data에서 adjusted r2값이 가장 좋았던 인덱스의 값에서 그 selection 단계에서의 test r2가 된다.\n",
    "        test_r2[num-1] = arr_test_r2[arr_r2_adj_train.index(max(arr_r2_adj_train))]\n",
    "        \n",
    "    #이전 것이 더 좋았던 경우 앞의 것을 선택하게 된다. (이번 과제에서는 변수를 고를때마다 성능이 좋아져서 이 코드로는 안들어온 것 같다.)\n",
    "    elif flag==0 :\n",
    "        train_adj_r2[num-1] = train_adj_r2[num-2]\n",
    "        test_adj_r2[num-1] = test_adj_r2[num-2]\n",
    "        test_r2[num-1]=test_r2[num-2]\n",
    "        break\n",
    "        \n",
    "\n",
    "\n",
    "            \n",
    "#변수4개 구하기\n",
    "print(\"forward selection을 수행한 후의 뽑힌 네 개의 feature\")\n",
    "print(best_features)\n",
    "\n",
    "#test R^2 출력\n",
    "print(\"\\nforward selection 을 수행한 후의 test r^2값\")\n",
    "#마지막 forward selection에서의 값이 forward selection 을 수행한 후의 test^r2값들이다.\n",
    "print(\"test r_2 : \" + str(test_r2[3]))\n",
    "print(\"test adj_r_2 : \" + str(test_adj_r2[3]))\n",
    "\n",
    "#x축은 variable 개수, y축은 test data의 adjusted R^2, train data의 adjusted R^2를 다른색으로 그래프 구별\n",
    "val_num = [1,2,3,4]\n",
    "labels = ['train_adjusted_R^2','test_adjusted_R^2']\n",
    "tempData = {'train_adjusted_R^2':train_adj_r2,'test_adjusted_R^2':test_adj_r2}\n",
    "fig, ax = plt.subplots(figsize = (10,6) )\n",
    "\n",
    "colors = ['red','blue']\n",
    "for i, label in enumerate(labels) :\n",
    "    ax.plot(val_num,tempData[label], color = colors[i],label = label,marker='o',linestyle='solid')            \n",
    "\n",
    "plt.legend(loc=\"upper right\", fontsize=15)\n",
    "plt.xlabel('variable num')\n",
    "plt.ylabel('adjusted R^2')\n",
    "plt.legend(loc=\"upper right\", fontsize=15)\n",
    "plt.title('forward selection_adjusted R^2 score')\n",
    "plt.show()\n",
    "\n"
   ]
  },
  {
   "cell_type": "markdown",
   "metadata": {},
   "source": [
    "# 3. Regularized linear model(lineaer regression)"
   ]
  },
  {
   "cell_type": "code",
   "execution_count": 10,
   "metadata": {},
   "outputs": [
    {
     "data": {
      "image/png": "[encoded data removed]",
      "text/plain": [
       "<Figure size 720x432 with 1 Axes>"
      ]
     },
     "metadata": {
      "needs_background": "light"
     },
     "output_type": "display_data"
    },
    {
     "name": "stdout",
     "output_type": "stream",
     "text": [
      "\n",
      "최적화된 model\n",
      "5-fold로 최적화된 parameter 값 :0.001\n",
      "5-fold로 최적화된 모델에서의 test R^2값 :0.5904093791941811\n"
     ]
    }
   ],
   "source": [
    "import numpy as np\n",
    "import matplotlib.pyplot as plt\n",
    "from sklearn import linear_model\n",
    "\n",
    "#Regularization 방법 중 lasso regression이용\n",
    "#5-fold cross validation\n",
    "from sklearn.model_selection import KFold\n",
    "from sklearn.model_selection import cross_val_score\n",
    "kfold = KFold(n_splits=5, random_state=100)\n",
    "\n",
    "#최적 하이퍼 파라미터 탐색\n",
    "params=[]\n",
    "valid_tests=[]\n",
    "for c in np.arange(-3.,4.) :\n",
    "    reg = linear_model.Lasso(alpha=10.**c, random_state=100)\n",
    "    scores = cross_val_score(reg, x_train,y_train, cv=kfold,scoring = 'r2')\n",
    "    params.append(10**c)\n",
    "    valid_tests.append(np.mean(scores))\n",
    "\n",
    "#그래프 출력\n",
    "plt.figure(figsize=(10,6))\n",
    "plt.plot(params, valid_tests, color = 'blue',marker='o',linestyle='solid',label = \"5-fold cross-validation R2 score\")\n",
    "plt.xscale('log')\n",
    "plt.legend(loc=\"upper right\", fontsize=15)\n",
    "plt.xlabel('value of alpha')\n",
    "plt.ylabel('r2 score')\n",
    "plt.legend(loc=\"upper right\", fontsize=15)\n",
    "plt.title('5-fold use lasso , r2_score with alpha change')\n",
    "plt.show()\n",
    "\n",
    "#최종 모델 선택\n",
    "#validation test성적이 좋았던 곳의 인덱스가 최적화된 parameter의 인덱스가 된다.\n",
    "index = valid_tests.index(max(valid_tests))\n",
    "best_param=params[index]\n",
    "\n",
    "#모델 훈련\n",
    "reg = linear_model.Lasso(alpha=best_param, random_state=100)\n",
    "reg = reg.fit(x_train,y_train)\n",
    "\n",
    "#최종 모델의 test R^2 출력\n",
    "from sklearn.metrics import r2_score\n",
    "predict_value = reg.predict(x_test)\n",
    "r2_score_val=r2_score(y_test,predict_value)\n",
    "print('\\n최적화된 model')\n",
    "print('5-fold로 최적화된 parameter 값 :'+ str(best_param))\n",
    "print('5-fold로 최적화된 모델에서의 test R^2값 :'+ str(r2_score_val))"
   ]
  }
 ],
 "metadata": {
  "kernelspec": {
   "display_name": "Python 3",
   "language": "python",
   "name": "python3"
  },
  "language_info": {
   "codemirror_mode": {
    "name": "ipython",
    "version": 3
   },
   "file_extension": ".py",
   "mimetype": "text/x-python",
   "name": "python",
   "nbconvert_exporter": "python",
   "pygments_lexer": "ipython3",
   "version": "3.7.2"
  }
 },
 "nbformat": 4,
 "nbformat_minor": 4
}
